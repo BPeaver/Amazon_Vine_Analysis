{
  "nbformat": 4,
  "nbformat_minor": 0,
  "metadata": {
    "colab": {
      "name": "Vine_Review_Analysis.ipynb",
      "provenance": [],
      "collapsed_sections": []
    },
    "kernelspec": {
      "name": "python3",
      "display_name": "Python 3"
    },
    "language_info": {
      "name": "python"
    }
  },
  "cells": [
    {
      "cell_type": "code",
      "execution_count": null,
      "metadata": {
        "colab": {
          "base_uri": "https://localhost:8080/"
        },
        "id": "9FAukzGOCAgU",
        "outputId": "be21aade-cee3-4cb3-831d-286f87f42d4f"
      },
      "outputs": [
        {
          "output_type": "stream",
          "name": "stdout",
          "text": [
            "Get:1 https://cloud.r-project.org/bin/linux/ubuntu bionic-cran40/ InRelease [3,626 B]\n",
            "Ign:2 https://developer.download.nvidia.com/compute/cuda/repos/ubuntu1804/x86_64  InRelease\n",
            "Ign:3 https://developer.download.nvidia.com/compute/machine-learning/repos/ubuntu1804/x86_64  InRelease\n",
            "Hit:4 https://developer.download.nvidia.com/compute/cuda/repos/ubuntu1804/x86_64  Release\n",
            "Get:5 http://security.ubuntu.com/ubuntu bionic-security InRelease [88.7 kB]\n",
            "Hit:6 https://developer.download.nvidia.com/compute/machine-learning/repos/ubuntu1804/x86_64  Release\n",
            "Get:7 http://ppa.launchpad.net/c2d4u.team/c2d4u4.0+/ubuntu bionic InRelease [15.9 kB]\n",
            "Hit:9 http://archive.ubuntu.com/ubuntu bionic InRelease\n",
            "Get:11 http://archive.ubuntu.com/ubuntu bionic-updates InRelease [88.7 kB]\n",
            "Hit:12 http://ppa.launchpad.net/cran/libgit2/ubuntu bionic InRelease\n",
            "Get:13 http://security.ubuntu.com/ubuntu bionic-security/restricted amd64 Packages [907 kB]\n",
            "Hit:14 http://ppa.launchpad.net/deadsnakes/ppa/ubuntu bionic InRelease\n",
            "Get:15 http://archive.ubuntu.com/ubuntu bionic-backports InRelease [74.6 kB]\n",
            "Get:16 http://archive.ubuntu.com/ubuntu bionic-updates/restricted amd64 Packages [941 kB]\n",
            "Hit:17 http://ppa.launchpad.net/graphics-drivers/ppa/ubuntu bionic InRelease\n",
            "Get:18 http://ppa.launchpad.net/c2d4u.team/c2d4u4.0+/ubuntu bionic/main Sources [1,950 kB]\n",
            "Get:19 http://security.ubuntu.com/ubuntu bionic-security/main amd64 Packages [2,728 kB]\n",
            "Get:20 http://archive.ubuntu.com/ubuntu bionic-updates/main amd64 Packages [3,165 kB]\n",
            "Get:21 http://security.ubuntu.com/ubuntu bionic-security/universe amd64 Packages [1,496 kB]\n",
            "Get:22 http://archive.ubuntu.com/ubuntu bionic-updates/universe amd64 Packages [2,272 kB]\n",
            "Get:23 http://ppa.launchpad.net/c2d4u.team/c2d4u4.0+/ubuntu bionic/main amd64 Packages [999 kB]\n",
            "Fetched 14.7 MB in 7s (2,165 kB/s)\n",
            "Reading package lists... Done\n"
          ]
        }
      ],
      "source": [
        "import os\n",
        "# Find the latest version of spark 3.0 from http://www.apache.org/dist/spark/ and enter as the spark version\n",
        "# For example:\n",
        "# spark_version = 'spark-3.0.3'\n",
        "spark_version = 'spark-3.2.1'\n",
        "os.environ['SPARK_VERSION']=spark_version\n",
        "\n",
        "# Install Spark and Java\n",
        "!apt-get update\n",
        "!apt-get install openjdk-11-jdk-headless -qq > /dev/null\n",
        "!wget -q http://www.apache.org/dist/spark/$SPARK_VERSION/$SPARK_VERSION-bin-hadoop2.7.tgz\n",
        "!tar xf $SPARK_VERSION-bin-hadoop2.7.tgz\n",
        "!pip install -q findspark\n",
        "\n",
        "# Set Environment Variables\n",
        "import os\n",
        "os.environ[\"JAVA_HOME\"] = \"/usr/lib/jvm/java-11-openjdk-amd64\"\n",
        "os.environ[\"SPARK_HOME\"] = f\"/content/{spark_version}-bin-hadoop2.7\"\n",
        "\n",
        "# Start a SparkSession\n",
        "import findspark\n",
        "findspark.init()"
      ]
    },
    {
      "cell_type": "code",
      "source": [
        "# Download the Postgres driver that will allow Spark to interact with Postgres.\n",
        "!wget https://jdbc.postgresql.org/download/postgresql-42.2.16.jar"
      ],
      "metadata": {
        "colab": {
          "base_uri": "https://localhost:8080/"
        },
        "id": "MRqb0F7jCQvi",
        "outputId": "29bd5ec3-ebf6-496f-a05e-67e5fbead316"
      },
      "execution_count": null,
      "outputs": [
        {
          "output_type": "stream",
          "name": "stdout",
          "text": [
            "--2022-04-23 03:11:46--  https://jdbc.postgresql.org/download/postgresql-42.2.16.jar\n",
            "Resolving jdbc.postgresql.org (jdbc.postgresql.org)... 72.32.157.228, 2001:4800:3e1:1::228\n",
            "Connecting to jdbc.postgresql.org (jdbc.postgresql.org)|72.32.157.228|:443... connected.\n",
            "HTTP request sent, awaiting response... 200 OK\n",
            "Length: 1002883 (979K) [application/java-archive]\n",
            "Saving to: ‘postgresql-42.2.16.jar’\n",
            "\n",
            "postgresql-42.2.16. 100%[===================>] 979.38K  1.23MB/s    in 0.8s    \n",
            "\n",
            "2022-04-23 03:11:48 (1.23 MB/s) - ‘postgresql-42.2.16.jar’ saved [1002883/1002883]\n",
            "\n"
          ]
        }
      ]
    },
    {
      "cell_type": "code",
      "source": [
        "from pyspark.sql import SparkSession\n",
        "spark = SparkSession.builder.appName(\"M16-Amazon-Challenge\").config(\"spark.driver.extraClassPath\",\"/content/postgresql-42.2.16.jar\").getOrCreate()"
      ],
      "metadata": {
        "id": "nuoC3cWwCSp5"
      },
      "execution_count": null,
      "outputs": []
    },
    {
      "cell_type": "code",
      "source": [
        "from pyspark import SparkFiles\n",
        "url = \"https://s3.amazonaws.com/amazon-reviews-pds/tsv/amazon_reviews_us_Toys_v1_00.tsv.gz\"\n",
        "spark.sparkContext.addFile(url)\n",
        "df = spark.read.option(\"encoding\", \"UTF-8\").csv(SparkFiles.get(\"amazon_reviews_us_Toys_v1_00.tsv.gz\"), sep=\"\\t\", header=True, inferSchema=True)\n",
        "df.show()"
      ],
      "metadata": {
        "colab": {
          "base_uri": "https://localhost:8080/"
        },
        "id": "N8rp9_nICWOw",
        "outputId": "5f2cd842-e0ac-4d5b-c89b-2c62fe0cb827"
      },
      "execution_count": null,
      "outputs": [
        {
          "output_type": "stream",
          "name": "stdout",
          "text": [
            "+-----------+-----------+--------------+----------+--------------+--------------------+----------------+-----------+-------------+-----------+----+-----------------+--------------------+--------------------+-----------+\n",
            "|marketplace|customer_id|     review_id|product_id|product_parent|       product_title|product_category|star_rating|helpful_votes|total_votes|vine|verified_purchase|     review_headline|         review_body|review_date|\n",
            "+-----------+-----------+--------------+----------+--------------+--------------------+----------------+-----------+-------------+-----------+----+-----------------+--------------------+--------------------+-----------+\n",
            "|         US|   18778586| RDIJS7QYB6XNR|B00EDBY7X8|     122952789|Monopoly Junior B...|            Toys|          5|            0|          0|   N|                Y|          Five Stars|        Excellent!!!| 2015-08-31|\n",
            "|         US|   24769659|R36ED1U38IELG8|B00D7JFOPC|     952062646|56 Pieces of Wood...|            Toys|          5|            0|          0|   N|                Y|Good quality trac...|Great quality woo...| 2015-08-31|\n",
            "|         US|   44331596| R1UE3RPRGCOLD|B002LHA74O|     818126353|Super Jumbo Playi...|            Toys|          2|            1|          1|   N|                Y|           Two Stars|Cards are not as ...| 2015-08-31|\n",
            "|         US|   23310293|R298788GS6I901|B00ARPLCGY|     261944918|Barbie Doll and F...|            Toys|          5|            0|          0|   N|                Y|my daughter loved...|my daughter loved...| 2015-08-31|\n",
            "|         US|   38745832|  RNX4EXOBBPN5|B00UZOPOFW|     717410439|Emazing Lights eL...|            Toys|          1|            1|          1|   N|                Y|     DONT BUY THESE!|Do not buy these!...| 2015-08-31|\n",
            "|         US|   13394189|R3BPETL222LMIM|B009B7F6CA|     873028700|Melissa & Doug Wa...|            Toys|          5|            0|          0|   N|                Y|          Five Stars|Great item. Pictu...| 2015-08-31|\n",
            "|         US|    2749569|R3SORMPJZO3F2J|B0101EHRSM|     723424342|Big Bang Cosmic P...|            Toys|          3|            2|          2|   N|                Y|         Three Stars|To keep together,...| 2015-08-31|\n",
            "|         US|   41137196|R2RDOJQ0WBZCF6|B00407S11Y|     383363775|Fun Express Insec...|            Toys|          5|            0|          0|   N|                Y|          Five Stars|I was pleased wit...| 2015-08-31|\n",
            "|         US|     433677|R2B8VBEPB4YEZ7|B00FGPU7U2|     780517568|Fisher-Price Octo...|            Toys|          5|            0|          0|   N|                Y|          Five Stars|    Children like it| 2015-08-31|\n",
            "|         US|    1297934|R1CB783I7B0U52|B0013OY0S0|     269360126|Claw Climber Goli...|            Toys|          1|            0|          1|   N|                Y|Shame on the sell...|Showed up not how...| 2015-08-31|\n",
            "|         US|   52006292| R2D90RQQ3V8LH|B00519PJTW|     493486387|100 Foot Multicol...|            Toys|          5|            0|          0|   N|                Y|          Five Stars|Really liked thes...| 2015-08-31|\n",
            "|         US|   32071052|R1Y4ZOUGFMJ327|B001TCY2DO|     459122467|Pig Jumbo Foil Ba...|            Toys|          5|            0|          0|   N|                Y|   Nice huge balloon|Nice huge balloon...| 2015-08-31|\n",
            "|         US|    7360347|R2BUV9QJI2A00X|B00DOQCWF8|     226984155|Minecraft Animal ...|            Toys|          5|            0|          1|   N|                Y|          Five Stars|          Great deal| 2015-08-31|\n",
            "|         US|   11613707| RSUHRJFJIRB3Z|B004C04I4I|     375659886|Disney Baby: Eeyo...|            Toys|          4|            0|          0|   N|                Y|          Four Stars|       As Advertised| 2015-08-31|\n",
            "|         US|   13545982|R1T96CG98BBA15|B00NWGEKBY|     933734136|Team Losi 8IGHT-E...|            Toys|          3|            2|          4|   N|                Y|... servo so expe...|Comes w a 15$ ser...| 2015-08-31|\n",
            "|         US|   43880421| R2ATXF4QQ30YW|B00000JS5S|     341842639|Hot Wheels 48- Ca...|            Toys|          5|            0|          0|   N|                Y|          Five Stars|   awesome ! Thanks!| 2015-08-31|\n",
            "|         US|    1662075|R1YS3DS218NNMD|B00XPWXYDK|     210135375|ZuZo 2.4GHz 4 CH ...|            Toys|          5|            4|          4|   N|                N|The closest relev...|I got this item f...| 2015-08-31|\n",
            "|         US|   18461411|R2SDXLTLF92O0H|B00VPXX92W|     705054378|Teenage Mutant Ni...|            Toys|          5|            0|          0|   N|                Y|          Five Stars|It was a birthday...| 2015-08-31|\n",
            "|         US|   27225859| R4R337CCDWLNG|B00YRA3H4U|     223420727|Franklin Sports M...|            Toys|          3|            0|          1|   Y|                N|Got wrong product...|Got a wrong produ...| 2015-08-31|\n",
            "|         US|   20494593|R32Z6UA4S5Q630|B009T8BSQY|     787701676|Alien Frontiers: ...|            Toys|          1|            0|          0|   N|                Y|         Overpriced.|You need expansio...| 2015-08-31|\n",
            "+-----------+-----------+--------------+----------+--------------+--------------------+----------------+-----------+-------------+-----------+----+-----------------+--------------------+--------------------+-----------+\n",
            "only showing top 20 rows\n",
            "\n"
          ]
        }
      ]
    },
    {
      "cell_type": "code",
      "source": [
        "# Create the vine_table. DataFrame\n",
        "vine_df = df.select([\"review_id\", \"star_rating\", \"helpful_votes\", \"total_votes\", \"vine\", \"verified_purchase\"])\n",
        "vine_df.show()"
      ],
      "metadata": {
        "colab": {
          "base_uri": "https://localhost:8080/"
        },
        "id": "rQ-0gjfVCXGQ",
        "outputId": "40e96550-d15b-4298-c4cb-d23430191c0a"
      },
      "execution_count": null,
      "outputs": [
        {
          "output_type": "stream",
          "name": "stdout",
          "text": [
            "+--------------+-----------+-------------+-----------+----+-----------------+\n",
            "|     review_id|star_rating|helpful_votes|total_votes|vine|verified_purchase|\n",
            "+--------------+-----------+-------------+-----------+----+-----------------+\n",
            "| RDIJS7QYB6XNR|          5|            0|          0|   N|                Y|\n",
            "|R36ED1U38IELG8|          5|            0|          0|   N|                Y|\n",
            "| R1UE3RPRGCOLD|          2|            1|          1|   N|                Y|\n",
            "|R298788GS6I901|          5|            0|          0|   N|                Y|\n",
            "|  RNX4EXOBBPN5|          1|            1|          1|   N|                Y|\n",
            "|R3BPETL222LMIM|          5|            0|          0|   N|                Y|\n",
            "|R3SORMPJZO3F2J|          3|            2|          2|   N|                Y|\n",
            "|R2RDOJQ0WBZCF6|          5|            0|          0|   N|                Y|\n",
            "|R2B8VBEPB4YEZ7|          5|            0|          0|   N|                Y|\n",
            "|R1CB783I7B0U52|          1|            0|          1|   N|                Y|\n",
            "| R2D90RQQ3V8LH|          5|            0|          0|   N|                Y|\n",
            "|R1Y4ZOUGFMJ327|          5|            0|          0|   N|                Y|\n",
            "|R2BUV9QJI2A00X|          5|            0|          1|   N|                Y|\n",
            "| RSUHRJFJIRB3Z|          4|            0|          0|   N|                Y|\n",
            "|R1T96CG98BBA15|          3|            2|          4|   N|                Y|\n",
            "| R2ATXF4QQ30YW|          5|            0|          0|   N|                Y|\n",
            "|R1YS3DS218NNMD|          5|            4|          4|   N|                N|\n",
            "|R2SDXLTLF92O0H|          5|            0|          0|   N|                Y|\n",
            "| R4R337CCDWLNG|          3|            0|          1|   Y|                N|\n",
            "|R32Z6UA4S5Q630|          1|            0|          0|   N|                Y|\n",
            "+--------------+-----------+-------------+-----------+----+-----------------+\n",
            "only showing top 20 rows\n",
            "\n"
          ]
        }
      ]
    },
    {
      "cell_type": "code",
      "source": [
        "# Filter the vine_table DataFrame to show total_votes > 20\n",
        "filtered_vine_df = vine_df.filter('total_votes >= 20')\n",
        "filtered_vine_df.show()"
      ],
      "metadata": {
        "colab": {
          "base_uri": "https://localhost:8080/"
        },
        "id": "ZNyBmvMMEFga",
        "outputId": "548da2ec-3f21-41ea-9eee-e104b40bf4bf"
      },
      "execution_count": null,
      "outputs": [
        {
          "output_type": "stream",
          "name": "stdout",
          "text": [
            "+--------------+-----------+-------------+-----------+----+-----------------+\n",
            "|     review_id|star_rating|helpful_votes|total_votes|vine|verified_purchase|\n",
            "+--------------+-----------+-------------+-----------+----+-----------------+\n",
            "| ROP6ITXO8K5V2|          5|           23|         27|   N|                Y|\n",
            "|R3ND1LVU7AXCVF|          1|           21|         21|   N|                Y|\n",
            "| R9I5FOLKU99RY|          5|           19|         20|   Y|                N|\n",
            "|R1QS8AOD6HX3ED|          4|           59|         81|   N|                N|\n",
            "|R3ED60RC69CCQ6|          5|           22|         23|   Y|                N|\n",
            "|R2MDI1TP46VSYD|          3|            9|         21|   N|                Y|\n",
            "|R2JM687C525WR9|          3|           33|         33|   Y|                N|\n",
            "|R2LWX4TZ67FWPT|          4|           50|         50|   N|                N|\n",
            "|R29IYHPYD14AGI|          3|           84|         84|   N|                Y|\n",
            "|R1F2I723WRK5QV|          5|           20|         20|   N|                Y|\n",
            "| RRO8C1IVZMD6H|          5|           22|         22|   N|                N|\n",
            "|R2GHOWIWDVLN18|          1|           28|         36|   N|                Y|\n",
            "|R30PJ9XUHFTY5D|          5|           42|         43|   N|                N|\n",
            "| RK12D8DTG4G82|          5|            5|         22|   N|                N|\n",
            "|R2F7D9N3SSQC20|          4|           32|         34|   N|                N|\n",
            "| RN4VK9FV66YPS|          5|           29|         33|   N|                N|\n",
            "|R18T8SFBDXAKSY|          5|           95|         95|   N|                Y|\n",
            "|R36SKVJXZ0I98A|          5|          124|        127|   N|                N|\n",
            "| RJDIWMOZT0EGZ|          1|           11|         27|   N|                N|\n",
            "|R3PAIHQSO707G4|          5|          189|        221|   N|                N|\n",
            "+--------------+-----------+-------------+-----------+----+-----------------+\n",
            "only showing top 20 rows\n",
            "\n"
          ]
        }
      ]
    },
    {
      "cell_type": "code",
      "source": [
        "# Filter DataFrame to show >= 50% of helpful_votes/total_votes\n",
        "votes50_df = filtered_vine_df.withColumn('GreaterThan50', filtered_vine_df['helpful_votes']/filtered_vine_df['total_votes']).filter('GreaterThan50 >= 0.5')\n",
        "votes50_df.show()"
      ],
      "metadata": {
        "colab": {
          "base_uri": "https://localhost:8080/"
        },
        "id": "XI37V5wCU5QS",
        "outputId": "9e27a691-c7e4-4e37-8bdb-6fa8a0ecd998"
      },
      "execution_count": null,
      "outputs": [
        {
          "output_type": "stream",
          "name": "stdout",
          "text": [
            "+--------------+-----------+-------------+-----------+----+-----------------+------------------+\n",
            "|     review_id|star_rating|helpful_votes|total_votes|vine|verified_purchase|     GreaterThan50|\n",
            "+--------------+-----------+-------------+-----------+----+-----------------+------------------+\n",
            "| ROP6ITXO8K5V2|          5|           23|         27|   N|                Y|0.8518518518518519|\n",
            "|R3ND1LVU7AXCVF|          1|           21|         21|   N|                Y|               1.0|\n",
            "| R9I5FOLKU99RY|          5|           19|         20|   Y|                N|              0.95|\n",
            "|R1QS8AOD6HX3ED|          4|           59|         81|   N|                N|0.7283950617283951|\n",
            "|R3ED60RC69CCQ6|          5|           22|         23|   Y|                N|0.9565217391304348|\n",
            "|R2JM687C525WR9|          3|           33|         33|   Y|                N|               1.0|\n",
            "|R2LWX4TZ67FWPT|          4|           50|         50|   N|                N|               1.0|\n",
            "|R29IYHPYD14AGI|          3|           84|         84|   N|                Y|               1.0|\n",
            "|R1F2I723WRK5QV|          5|           20|         20|   N|                Y|               1.0|\n",
            "| RRO8C1IVZMD6H|          5|           22|         22|   N|                N|               1.0|\n",
            "|R2GHOWIWDVLN18|          1|           28|         36|   N|                Y|0.7777777777777778|\n",
            "|R30PJ9XUHFTY5D|          5|           42|         43|   N|                N|0.9767441860465116|\n",
            "|R2F7D9N3SSQC20|          4|           32|         34|   N|                N|0.9411764705882353|\n",
            "| RN4VK9FV66YPS|          5|           29|         33|   N|                N|0.8787878787878788|\n",
            "|R18T8SFBDXAKSY|          5|           95|         95|   N|                Y|               1.0|\n",
            "|R36SKVJXZ0I98A|          5|          124|        127|   N|                N|0.9763779527559056|\n",
            "|R3PAIHQSO707G4|          5|          189|        221|   N|                N|0.8552036199095022|\n",
            "|R2TETIV0IVWFSJ|          4|           80|         82|   N|                Y| 0.975609756097561|\n",
            "|R1VBVD23GPZW0E|          5|           55|         58|   N|                Y|0.9482758620689655|\n",
            "|R1AJKXVHURPVCZ|          3|           12|         22|   N|                Y|0.5454545454545454|\n",
            "+--------------+-----------+-------------+-----------+----+-----------------+------------------+\n",
            "only showing top 20 rows\n",
            "\n"
          ]
        }
      ]
    },
    {
      "cell_type": "code",
      "source": [
        "# Filter DataFrame to show Vine users\n",
        "vine_votes_df = votes50_df.filter(votes50_df['vine'] == \"Y\")\n",
        "vine_votes_df.show()\n",
        "print(vine_votes_df.count())"
      ],
      "metadata": {
        "colab": {
          "base_uri": "https://localhost:8080/"
        },
        "id": "q7HxhFEEXITr",
        "outputId": "8e251d91-0768-4c7c-b421-b3e6867fbe10"
      },
      "execution_count": null,
      "outputs": [
        {
          "output_type": "stream",
          "name": "stdout",
          "text": [
            "+--------------+-----------+-------------+-----------+----+-----------------+------------------+\n",
            "|     review_id|star_rating|helpful_votes|total_votes|vine|verified_purchase|     GreaterThan50|\n",
            "+--------------+-----------+-------------+-----------+----+-----------------+------------------+\n",
            "| R9I5FOLKU99RY|          5|           19|         20|   Y|                N|              0.95|\n",
            "|R3ED60RC69CCQ6|          5|           22|         23|   Y|                N|0.9565217391304348|\n",
            "|R2JM687C525WR9|          3|           33|         33|   Y|                N|               1.0|\n",
            "| RUB4AUWGHG16G|          4|           25|         27|   Y|                N|0.9259259259259259|\n",
            "|R1S3IDYJUA6V2G|          5|           28|         32|   Y|                N|             0.875|\n",
            "| RZFLN8FD5Y2M6|          4|           25|         28|   Y|                N|0.8928571428571429|\n",
            "|R1V8NDXD9SETO5|          3|          320|        352|   Y|                N|0.9090909090909091|\n",
            "|R2H4VEFWHP50M3|          5|           26|         36|   Y|                N|0.7222222222222222|\n",
            "|R3DP6Y0A8WXUOV|          5|           21|         21|   Y|                N|               1.0|\n",
            "| R49L85GZIKH4D|          3|           33|         36|   Y|                N|0.9166666666666666|\n",
            "| R2RQKWRUS11DZ|          5|           18|         20|   Y|                N|               0.9|\n",
            "| RZL7TPXLJPR2Z|          4|           19|         20|   Y|                N|              0.95|\n",
            "|R34JSTH01HK1J8|          4|           75|         80|   Y|                N|            0.9375|\n",
            "|R1OI8PAJW4MWUY|          5|           20|         20|   Y|                N|               1.0|\n",
            "|R1RXSJILN39UY1|          5|           48|         53|   Y|                N|0.9056603773584906|\n",
            "| R79XS8S5EYX59|          3|           20|         22|   Y|                N|0.9090909090909091|\n",
            "|R24STRS5M3QEXQ|          5|           60|         65|   Y|                N|0.9230769230769231|\n",
            "|R15HJU8XNX1XG1|          4|           25|         26|   Y|                N|0.9615384615384616|\n",
            "|R1NMYF3BJM72A0|          4|           57|         60|   Y|                N|              0.95|\n",
            "| R8XSDH6E6YWMX|          4|           22|         24|   Y|                N|0.9166666666666666|\n",
            "+--------------+-----------+-------------+-----------+----+-----------------+------------------+\n",
            "only showing top 20 rows\n",
            "\n",
            "1266\n"
          ]
        }
      ]
    },
    {
      "cell_type": "code",
      "source": [
        "# Filter DataFrame to show Non-Vine users\n",
        "regular_votes_df = votes50_df.filter(votes50_df['vine'] == \"N\")\n",
        "regular_votes_df.show()\n",
        "print(regular_votes_df.count())"
      ],
      "metadata": {
        "colab": {
          "base_uri": "https://localhost:8080/"
        },
        "id": "VAjtDAwWXwsn",
        "outputId": "471cb1cd-767d-4319-c08b-a740dda6ae25"
      },
      "execution_count": null,
      "outputs": [
        {
          "output_type": "stream",
          "name": "stdout",
          "text": [
            "+--------------+-----------+-------------+-----------+----+-----------------+------------------+\n",
            "|     review_id|star_rating|helpful_votes|total_votes|vine|verified_purchase|     GreaterThan50|\n",
            "+--------------+-----------+-------------+-----------+----+-----------------+------------------+\n",
            "| ROP6ITXO8K5V2|          5|           23|         27|   N|                Y|0.8518518518518519|\n",
            "|R3ND1LVU7AXCVF|          1|           21|         21|   N|                Y|               1.0|\n",
            "|R1QS8AOD6HX3ED|          4|           59|         81|   N|                N|0.7283950617283951|\n",
            "|R2LWX4TZ67FWPT|          4|           50|         50|   N|                N|               1.0|\n",
            "|R29IYHPYD14AGI|          3|           84|         84|   N|                Y|               1.0|\n",
            "|R1F2I723WRK5QV|          5|           20|         20|   N|                Y|               1.0|\n",
            "| RRO8C1IVZMD6H|          5|           22|         22|   N|                N|               1.0|\n",
            "|R2GHOWIWDVLN18|          1|           28|         36|   N|                Y|0.7777777777777778|\n",
            "|R30PJ9XUHFTY5D|          5|           42|         43|   N|                N|0.9767441860465116|\n",
            "|R2F7D9N3SSQC20|          4|           32|         34|   N|                N|0.9411764705882353|\n",
            "| RN4VK9FV66YPS|          5|           29|         33|   N|                N|0.8787878787878788|\n",
            "|R18T8SFBDXAKSY|          5|           95|         95|   N|                Y|               1.0|\n",
            "|R36SKVJXZ0I98A|          5|          124|        127|   N|                N|0.9763779527559056|\n",
            "|R3PAIHQSO707G4|          5|          189|        221|   N|                N|0.8552036199095022|\n",
            "|R2TETIV0IVWFSJ|          4|           80|         82|   N|                Y| 0.975609756097561|\n",
            "|R1VBVD23GPZW0E|          5|           55|         58|   N|                Y|0.9482758620689655|\n",
            "|R1AJKXVHURPVCZ|          3|           12|         22|   N|                Y|0.5454545454545454|\n",
            "|R2QDNZYVEX9X14|          2|           18|         20|   N|                N|               0.9|\n",
            "|R32RD311POLW7G|          3|           25|         27|   N|                Y|0.9259259259259259|\n",
            "|R1VXO073B9HOGC|          4|           29|         30|   N|                Y|0.9666666666666667|\n",
            "+--------------+-----------+-------------+-----------+----+-----------------+------------------+\n",
            "only showing top 20 rows\n",
            "\n",
            "62028\n"
          ]
        }
      ]
    },
    {
      "cell_type": "code",
      "source": [
        "print(\"Total (Helpful) Vine Reviews:  %f\" % vine_votes_df.count())\n",
        "print(\"Total (Helpful) Non-Vine Reviews: %f\" % regular_votes_df.count())"
      ],
      "metadata": {
        "colab": {
          "base_uri": "https://localhost:8080/"
        },
        "id": "1fuSi_kWY00b",
        "outputId": "2950c3d5-38f4-4872-ee4c-71388d770c29"
      },
      "execution_count": null,
      "outputs": [
        {
          "output_type": "stream",
          "name": "stdout",
          "text": [
            "Total (Helpful) Vine Reviews:  1266.000000\n",
            "Total (Helpful) Non-Vine Reviews: 62028.000000\n"
          ]
        }
      ]
    },
    {
      "cell_type": "code",
      "source": [
        "five_star_vine_df = vine_votes_df.filter(vine_votes_df[\"star_rating\"] == '5')\n",
        "print(\"Total (Helpful) 5-Star Vine Reviews: %f\" % five_star_vine_df.count())\n",
        "\n",
        "five_star_regular_df = regular_votes_df.filter(regular_votes_df[\"star_rating\"] == '5')\n",
        "print(\"Total (Helpful) 5-Star Non-Vine Reviews: %f\" % five_star_regular_df.count())"
      ],
      "metadata": {
        "colab": {
          "base_uri": "https://localhost:8080/"
        },
        "id": "K3qk18Gdd2XS",
        "outputId": "4bccc022-88a9-4997-9ef6-db6babe54225"
      },
      "execution_count": null,
      "outputs": [
        {
          "output_type": "stream",
          "name": "stdout",
          "text": [
            "Total (Helpful) 5-Star Vine Reviews: 432.000000\n",
            "Total (Helpful) 5-Star Non-Vine Reviews: 29982.000000\n"
          ]
        }
      ]
    },
    {
      "cell_type": "code",
      "source": [
        "vine_percent_df = (five_star_vine_df.count()/vine_votes_df.count()) * 100\n",
        "print(\"Percent of Vine 5-Star Votes: %f\" % vine_percent_df)\n",
        "\n",
        "regular_percent_df = (five_star_regular_df.count()/regular_votes_df.count()) * 100\n",
        "print(\"Percent of Non-Vine 5-Star Votes: %f\" % regular_percent_df)"
      ],
      "metadata": {
        "colab": {
          "base_uri": "https://localhost:8080/"
        },
        "id": "zPe3gNc9gYfG",
        "outputId": "9f3e3d6a-8b8c-445c-f985-af98c233e1f8"
      },
      "execution_count": null,
      "outputs": [
        {
          "output_type": "stream",
          "name": "stdout",
          "text": [
            "Percent of Vine 5-Star Votes: 34.123223\n",
            "Percent of Non-Vine 5-Star Votes: 48.336235\n"
          ]
        }
      ]
    }
  ]
}